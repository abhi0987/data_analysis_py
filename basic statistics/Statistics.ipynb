{
 "cells": [
  {
   "cell_type": "markdown",
   "metadata": {},
   "source": [
    "# Descrete Uniform Distribution\n",
    "If X is a Random variable , then it has a descrete uniform distribution   \n",
    "if each of n values in the range: X1,X2,X3...Xn has equal probablity\n",
    "      f(Xi) = 1/n  \n",
    "\n",
    "It is also known as 'equally likely outcomes'   \n",
    "\n",
    "Lets do it in python"
   ]
  },
  {
   "cell_type": "code",
   "execution_count": 45,
   "metadata": {
    "collapsed": false
   },
   "outputs": [],
   "source": [
    "import numpy as np\n",
    "from numpy.random import rand\n",
    "from scipy import stats\n",
    "from scipy.stats import poisson\n",
    "import matplotlib as mpl\n",
    "import pandas as pd\n",
    "import matplotlib.pyplot as plt\n",
    "import seaborn as sns\n",
    "from __future__ import division\n",
    "%matplotlib inline"
   ]
  },
  {
   "cell_type": "markdown",
   "metadata": {},
   "source": [
    "lets set up a  roll of dice and plot the distribution using seaborn before going to matplotlib"
   ]
  },
  {
   "cell_type": "code",
   "execution_count": 46,
   "metadata": {
    "collapsed": false
   },
   "outputs": [
    {
     "data": {
      "text/plain": [
       "<matplotlib.text.Text at 0x104fd978>"
      ]
     },
     "execution_count": 46,
     "metadata": {},
     "output_type": "execute_result"
    },
    {
     "data": {
      "image/png": "[encoded data removed]",
      "text/plain": [
       "<matplotlib.figure.Figure at 0xefb7a20>"
      ]
     },
     "metadata": {},
     "output_type": "display_data"
    }
   ],
   "source": [
    "roll_options = [1,2,3,4,5,6]\n",
    "\n",
    "# total probablity space\n",
    "tprob = 1\n",
    "\n",
    "#each roll has a same odd of appearing\n",
    "prob_roll  = tprob/len(roll_options)\n",
    "\n",
    "uni_plot = sns.rugplot(roll_options,height=prob_roll,c='indianred')\n",
    "uni_plot.set_title('Probablity Mass function')"
   ]
  },
  {
   "cell_type": "markdown",
   "metadata": {},
   "source": [
    "mean and varinace of discrete uniform distribution   \n",
    "\n",
    "mean is simply the max an min value divided by 2 :\n",
    "    μ = (a+b)/2\n",
    "variance :\n",
    "    sigma^2\t= ((b-a+1)^2 - 1) / 12  \n",
    "    \n",
    "usin scipy generate a discrete uniform distribution    "
   ]
  },
  {
   "cell_type": "code",
   "execution_count": 47,
   "metadata": {
    "collapsed": false
   },
   "outputs": [
    {
     "name": "stdout",
     "output_type": "stream",
     "text": [
      "The mean is 3.5 \n"
     ]
    }
   ],
   "source": [
    "from scipy.stats import randint\n",
    "\n",
    "# set a low and high boundary for dice roll (1,7)\n",
    "low,high = 1, 7\n",
    "\n",
    "#mean and variance using scipy\n",
    "\n",
    "mean,var = randint.stats(low,high)\n",
    "\n",
    "print \"The mean is %2.1f \" %mean \n"
   ]
  },
  {
   "cell_type": "code",
   "execution_count": 48,
   "metadata": {
    "collapsed": false
   },
   "outputs": [
    {
     "data": {
      "text/plain": [
       "<Container object of 6 artists>"
      ]
     },
     "execution_count": 48,
     "metadata": {},
     "output_type": "execute_result"
    },
    {
     "data": {
      "image/png": "[encoded data removed]",
      "text/plain": [
       "<matplotlib.figure.Figure at 0xefe72e8>"
      ]
     },
     "metadata": {},
     "output_type": "display_data"
    }
   ],
   "source": [
    "plt.bar(roll_options,randint.pmf(roll_options,low,high))"
   ]
  },
  {
   "cell_type": "markdown",
   "metadata": {},
   "source": [
    "# Binomial   Distribution\n",
    "\n",
    "defination = Binomial distribution is one in which the probability of repeated number of trials are studied.\n",
    "\n",
    "             1.Binomial Distribution is biparametric, i.e. it is featured by two parameters n and p\n",
    "        \n",
    "             2.There are fixed no. of trials in Binomial distribution\n",
    "             \n",
    "             3.In a binomial distribution, there are only two possible outcomes success or failure\n",
    "\n",
    "             4.Mean > variance \n",
    "             \n",
    "             5.e.g. Coin tossing experiment. \n",
    "               \n",
    "                 \n",
    "                 \n",
    "\n",
    "we can discuss binomial distribution  by an example  :  \n",
    "\n",
    "Q. 2 players are playing basket ball.Player A and Player B .Player A takes an average of 11 shots per game  \n",
    "and has an average of 72% success.Player B takes an avearge of 15 shots per game but has an average of 48% success  \n",
    "\n",
    "question 1 :  probability that A makes 6 shots in an avearge game?  \n",
    "\n",
    "question 2 :  probability that B makes 6 shots in an avearge game?  \n"
   ]
  },
  {
   "cell_type": "markdown",
   "metadata": {
    "collapsed": true
   },
   "source": [
    "Formula for BINOMIAL DISTRIBUTION is : Pr(x=k) = C(n,k)p^k(1-p)^(n-k)  \n",
    "where       \n",
    "            n = no. of trials\n",
    "            k = no. of successes  \n",
    "            p = probability of success  \n",
    "            q = probability of failure = 1-p  \n",
    "            C(n,k) = n! / k!(n-k)!\n",
    "            "
   ]
  },
  {
   "cell_type": "code",
   "execution_count": 49,
   "metadata": {
    "collapsed": false
   },
   "outputs": [
    {
     "name": "stdout",
     "output_type": "stream",
     "text": [
      "22.4218384975\n",
      "13.3842882127\n"
     ]
    }
   ],
   "source": [
    "#lets solve the question\n",
    "\n",
    "import scipy.misc as sc\n",
    "\n",
    "# probability of A \n",
    "p_A = 0.72\n",
    "n_A = 11 \n",
    "k = 9\n",
    "# probability of B\n",
    "p_B = 0.48\n",
    "n_B = 15\n",
    "\n",
    "comb_A = sc.comb(n_A,k)\n",
    "ans_A = comb_A * p_A ** k * ((1-p_A)**(n_A-k))\n",
    "\n",
    "ans_A = 100 * ans_A\n",
    "\n",
    "comb_B = sc.comb(n_B,k)\n",
    "ans_B = comb_B * p_B ** k * ((1-p_B)**(n_B-k))\n",
    "\n",
    "ans_B = 100 * ans_B\n",
    "\n",
    "print ans_A\n",
    "print ans_B"
   ]
  },
  {
   "cell_type": "markdown",
   "metadata": {},
   "source": [
    "The Mean of binomial distribution is simply given below :   Mu = n * p  \n",
    "                                                    \n",
    "The Standard Deviation of binomial distribution is given below :\n",
    "                                                    sigma = sqrt(n * q * p)    \n",
    "                                                    where q = 1 - p\n",
    "                                                  "
   ]
  },
  {
   "cell_type": "code",
   "execution_count": 50,
   "metadata": {
    "collapsed": false
   },
   "outputs": [
    {
     "name": "stdout",
     "output_type": "stream",
     "text": [
      "MEAN A = 8 and STD = 1\n",
      "MEAN B = 7 and STD = 2\n"
     ]
    }
   ],
   "source": [
    "# generate manually \n",
    "\n",
    "mu_A = n_A * p_A\n",
    "mu_B = n_B * p_B\n",
    "\n",
    "sigma_A = (n_A * (1-p_A) * p_A) ** 0.5\n",
    "sigma_B = (n_B * (1-p_B) * p_B) ** 0.5\n",
    "\n",
    "print  \"MEAN A = %1.0f and STD = %1.0f\" %(mu_A,sigma_A)\n",
    "print  \"MEAN B = %1.0f and STD = %1.0f\" %(mu_B,sigma_B)"
   ]
  },
  {
   "cell_type": "code",
   "execution_count": 51,
   "metadata": {
    "collapsed": false
   },
   "outputs": [
    {
     "name": "stdout",
     "output_type": "stream",
     "text": [
      "MEAN = 7.92 and STD = 1.49\n"
     ]
    }
   ],
   "source": [
    "# now using scipy library calculate mean and standard deviation \n",
    "\n",
    "from scipy.stats import binom\n",
    "\n",
    "mean,var = binom.stats(n_A,p_A)\n",
    "\n",
    "print 'MEAN = %1.2f and STD = %1.2f' %(mean , var ** 0.5)"
   ]
  },
  {
   "cell_type": "code",
   "execution_count": 52,
   "metadata": {
    "collapsed": false
   },
   "outputs": [
    {
     "data": {
      "text/plain": [
       "array([ 0.00097656,  0.        ,  0.        , ...,  0.        ,\n",
       "        0.        ,  0.        ])"
      ]
     },
     "execution_count": 52,
     "metadata": {},
     "output_type": "execute_result"
    }
   ],
   "source": [
    "n = 10\n",
    "p = 0.5\n",
    "\n",
    "x = np.arange(0,10,0.001)\n",
    "\n",
    "y = binom.pmf(x,n,p)\n",
    "y"
   ]
  },
  {
   "cell_type": "code",
   "execution_count": 53,
   "metadata": {
    "collapsed": false
   },
   "outputs": [
    {
     "data": {
      "text/plain": [
       "[<matplotlib.lines.Line2D at 0x109b1f60>]"
      ]
     },
     "execution_count": 53,
     "metadata": {},
     "output_type": "execute_result"
    },
    {
     "data": {
      "image/png": "[encoded data removed]",
      "text/plain": [
       "<matplotlib.figure.Figure at 0x10800e48>"
      ]
     },
     "metadata": {},
     "output_type": "display_data"
    }
   ],
   "source": [
    "plt.plot(x,y)"
   ]
  },
  {
   "cell_type": "code",
   "execution_count": 54,
   "metadata": {
    "collapsed": false
   },
   "outputs": [
    {
     "data": {
      "text/plain": [
       "[<matplotlib.lines.Line2D at 0x10c0c898>]"
      ]
     },
     "execution_count": 54,
     "metadata": {},
     "output_type": "execute_result"
    },
    {
     "data": {
      "image/png": "[encoded data removed]",
      "text/plain": [
       "<matplotlib.figure.Figure at 0x10a37dd8>"
      ]
     },
     "metadata": {},
     "output_type": "display_data"
    }
   ],
   "source": [
    "plt.plot(x,y,'o')"
   ]
  },
  {
   "cell_type": "markdown",
   "metadata": {
    "collapsed": true
   },
   "source": [
    "# QUICK TIPS : diff. b/w P.M.F and P.D.F"
   ]
  },
  {
   "cell_type": "markdown",
   "metadata": {},
   "source": [
    "p.m.f = probablity mass function (If there is a descrete data then it is used)\n",
    "\n",
    "p.d.f = probablity density function (if there is continous data then it is used)\n",
    "\n"
   ]
  },
  {
   "cell_type": "markdown",
   "metadata": {},
   "source": [
    "# POISSON DISTRIBUTION \n",
    "\n",
    "   defination = Poisson Distribution gives the count of independent events occur randomly with a given period of time.\n",
    "   \n",
    "   1.Infinitesimal chance of success means no. of occurence can range from 0 to infinte  \n",
    "   \n",
    "   2.Uniparametric as it is featured by only one parameter λ or m where m or λ = mean(µ) and varinace(σ**2)\n",
    "\n",
    "   3.Mean = variance \n",
    "   \n",
    "   \n",
    "   The formula of Poisson distribution \n",
    "   \n",
    "    Pr(x=k) = (λ^k * e^(-λ)) / k! \n",
    "    \n",
    "    where k = 0,1,2,3 ...... \n",
    "          e = Euler's number (2.718)\n",
    "          λ = mean\n",
    "    "
   ]
  },
  {
   "cell_type": "code",
   "execution_count": 59,
   "metadata": {
    "collapsed": false
   },
   "outputs": [
    {
     "name": "stdout",
     "output_type": "stream",
     "text": [
      "[  4.53999298e-05   4.53999298e-04   2.26999649e-03   7.56665496e-03\n",
      "   1.89166374e-02   3.78332748e-02   6.30554580e-02   9.00792257e-02\n",
      "   1.12599032e-01   1.25110036e-01   1.25110036e-01   1.13736396e-01\n",
      "   9.47803301e-02   7.29079462e-02   5.20771044e-02   3.47180696e-02\n",
      "   2.16987935e-02   1.27639962e-02   7.09110899e-03   3.73216263e-03\n",
      "   1.86608131e-03   8.88610150e-04   4.03913704e-04   1.75614654e-04\n",
      "   7.31727725e-05   2.92691090e-05   1.12573496e-05   4.16938875e-06\n",
      "   1.48906741e-06   5.13471521e-07]\n"
     ]
    },
    {
     "data": {
      "image/png": "[encoded data removed]",
      "text/plain": [
       "<matplotlib.figure.Figure at 0x114be128>"
      ]
     },
     "metadata": {},
     "output_type": "display_data"
    }
   ],
   "source": [
    "# an short example \n",
    "\n",
    "m = 10\n",
    "\n",
    "x = np.arange(30)\n",
    "\n",
    "plt.bar(x,poisson.pmf(x,10))\n",
    "print(poisson.pmf(x,10))"
   ]
  },
  {
   "cell_type": "code",
   "execution_count": null,
   "metadata": {
    "collapsed": true
   },
   "outputs": [],
   "source": []
  }
 ],
 "metadata": {
  "kernelspec": {
   "display_name": "Python 2",
   "language": "python",
   "name": "python2"
  },
  "language_info": {
   "codemirror_mode": {
    "name": "ipython",
    "version": 2
   },
   "file_extension": ".py",
   "mimetype": "text/x-python",
   "name": "python",
   "nbconvert_exporter": "python",
   "pygments_lexer": "ipython2",
   "version": "2.7.13"
  }
 },
 "nbformat": 4,
 "nbformat_minor": 2
}
